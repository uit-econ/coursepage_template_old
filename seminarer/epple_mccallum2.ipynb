{
 "cells": [
  {
   "cell_type": "code",
   "execution_count": 12,
   "id": "1ecca56b-9a9a-4558-abd0-d68c2d8de14e",
   "metadata": {},
   "outputs": [
    {
     "data": {
      "image/png": "[encoded data removed]",
      "text/plain": [
       "<Figure size 432x288 with 1 Axes>"
      ]
     },
     "metadata": {
      "needs_background": "light"
     },
     "output_type": "display_data"
    }
   ],
   "source": [
    "import matplotlib.pyplot as plt\n",
    "import pandas as pd\n",
    "import sympy as sp\n",
    "import numpy as np\n",
    "\n",
    "df=pd.read_csv(\"https://uit-sok-1006-v22.github.io/seminarer/chickendata.csv\",delimiter=\";\")\n",
    "\n",
    "\n",
    "def demand_curve(c,Q,y,pb):\n",
    "    #eq 14\n",
    "    \n",
    "    demand=(c.log(Q)-(-4.507+0.841*y\n",
    "                       +0.277*pb))/(-0.397)\n",
    "    \n",
    "    return demand\n",
    "\n",
    "def supply_curve_long_run(c,Q,N,X,pf,t):\n",
    "    #eq 15\n",
    "    supply=((1-0.631)*c.log(N*Q+X)\n",
    "            -(2.030-0.146*pf\n",
    "            + 0.0184*t))/0.221\n",
    "    \n",
    "    return supply\n",
    "\n",
    "\n",
    "def supply_curve_short_run(c,Q,N,X,pf,t,qprod):\n",
    "    #eq 16\n",
    "    supply=(c.log(N*Q+X)\n",
    "           -(2.030-0.146*pf\n",
    "           +0.0184*t\n",
    "           +0.631*c.log(N*qprod+X)))/0.221\n",
    "    \n",
    "    return supply\n",
    "\n",
    "\n",
    "def equate_q(y,pb,N,X,pf,t):\n",
    "    Q=sp.symbols(\"Q\")\n",
    "    eq=sp.Eq(demand_curve(sp,Q,y,pb),supply_curve_long_run(sp,Q,N,X,pf,t))\n",
    "    sol=sp.nsolve(eq,40)\n",
    "    return float(sol)\n",
    "\n",
    "\n",
    "def plot_year(df,year):\n",
    "    fig,ax=plt.subplots()\n",
    "    ax.set_ylabel('P')\n",
    "    ax.set_xlabel('Q')\n",
    "\n",
    "    #obtaining the relevant variables for year:\n",
    "    \n",
    "    d=df[df['YEAR']==year].to_dict(orient='records')[0]\n",
    "    \n",
    "   \n",
    "    \n",
    "    y=np.log(d['Y'])\n",
    "    pb=np.log(d['PBEEF']/d['CPI'])\n",
    "    \n",
    "    N=d['POP']\n",
    "    X=d['QPRODA']/1439-d['Q']*d['POP']\n",
    "    pf=np.log(d['PF']/d['CPI'])\n",
    "    t=d['TIME']\n",
    "    qprod=np.log(d['QPRODA']/1439)\n",
    "    cpi=d['CPI']\n",
    "    \n",
    "    #finding equilibrium quantity:\n",
    "    qprod=equate_q(y,pb,N,X,pf,t)  \n",
    "\n",
    "    #plotting the function\n",
    "    Q = np.linspace(1,80,100)\n",
    "\n",
    "    ax.plot(Q,\n",
    "            np.exp(\n",
    "                supply_curve_short_run(np,Q,N,X,pf,t,qprod)\n",
    "            )*cpi\n",
    "            ,label='Supply short run')\n",
    "    ax.plot(Q,\n",
    "            np.exp(\n",
    "                supply_curve_long_run(np,Q,N,X,pf,t)\n",
    "            )*cpi\n",
    "            ,label='Supply long run')\n",
    "    ax.plot(Q,\n",
    "            np.exp(\n",
    "                demand_curve(np,Q,y,pb)\n",
    "            )*cpi\n",
    "            ,label='Demand')\n",
    "    ax.set_ylim([0, 400])\n",
    "\n",
    "    ax.legend(loc='upper left',frameon=False)\n",
    "\n",
    "\n",
    "plot_year(df,1975) \n"
   ]
  },
  {
   "cell_type": "code",
   "execution_count": null,
   "id": "54bff3aa-454a-48b5-94fe-4391ef33ee59",
   "metadata": {},
   "outputs": [],
   "source": []
  }
 ],
 "metadata": {
  "kernelspec": {
   "display_name": "Python 3 (ipykernel)",
   "language": "python",
   "name": "python3"
  },
  "language_info": {
   "codemirror_mode": {
    "name": "ipython",
    "version": 3
   },
   "file_extension": ".py",
   "mimetype": "text/x-python",
   "name": "python",
   "nbconvert_exporter": "python",
   "pygments_lexer": "ipython3",
   "version": "3.9.5"
  }
 },
 "nbformat": 4,
 "nbformat_minor": 5
}
