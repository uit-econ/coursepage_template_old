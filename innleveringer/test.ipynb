{
 "cells": [
  {
   "cell_type": "code",
   "execution_count": null,
   "id": "558bb3b0-80c8-4048-bf2f-fb10e1b5b188",
   "metadata": {},
   "outputs": [],
   "source": [
    "import pandas as pd\n",
    "import chicken_sol\n",
    "df=pd.read_csv(\"https://uit-sok-1006-v22.github.io/innleveringer/chickendata.csv\",delimiter=\";\")\n",
    "chicken_sol.plot_year(df,1995)"
   ]
  },
  {
   "cell_type": "code",
   "execution_count": null,
   "id": "af4a023f-0c0b-4f88-87e5-60b8a305c582",
   "metadata": {},
   "outputs": [],
   "source": []
  }
 ],
 "metadata": {
  "kernelspec": {
   "display_name": "Python 3 (ipykernel)",
   "language": "python",
   "name": "python3"
  },
  "language_info": {
   "codemirror_mode": {
    "name": "ipython",
    "version": 3
   },
   "file_extension": ".py",
   "mimetype": "text/x-python",
   "name": "python",
   "nbconvert_exporter": "python",
   "pygments_lexer": "ipython3",
   "version": "3.8.10"
  }
 },
 "nbformat": 4,
 "nbformat_minor": 5
}
