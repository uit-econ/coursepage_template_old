{
 "cells": [
  {
   "cell_type": "code",
   "execution_count": null,
   "id": "bb621ae4-3861-4fda-9289-b7b9bfd97cd7",
   "metadata": {},
   "outputs": [],
   "source": [
    "\n",
    "import pandas as pd\n",
    "import numpy as np\n",
    "\n",
    "import statsmodels as sm\n",
    "\n",
    "import statsmodels.formula.api as smf\n",
    "\n",
    "# last inn data\n",
    "\n",
    "df=pd.read_csv(\"https://uit-sok-1006-v22.github.io/seminarer/tesladata.csv\",delimiter=\";\")\n",
    "\n",
    "# Vi skal estimere ln(xperN) = konstant + (a+b-1)ln(N) +bln(KperN)\n",
    "\n",
    "# Vi er interessert i om a+b-1 er statistisk annerledes enn 0.\n",
    "\n",
    "# I tabellen se på t verdien på ln(N), er dette over 2 kan vi konkludere med at koeffisienten ikke er null.\n",
    "\n",
    "# Generer variablene: husk at ln(x/N)=ln(x)-ln(N) osv\n",
    "\n",
    "\n",
    "df['lnN']=np.log(df['Arbeidere'])\n",
    "df['lnKperN']=np.log(df['CAPEX'])-df['lnN']\n",
    "df['lnxperN']=np.log(df['Produksjon'])-df['lnN']\n",
    "\n",
    "# Estimer ved hjelp av ols.\n",
    "\n",
    "mod = smf.ols(formula='lnxperN ~ lnN + lnKperN', data=df)\n",
    "res = mod.fit()\n",
    "print(res.summary())\n"
   ]
  }
 ],
 "metadata": {
  "kernelspec": {
   "display_name": "Python 3 (ipykernel)",
   "language": "python",
   "name": "python3"
  },
  "language_info": {
   "codemirror_mode": {
    "name": "ipython",
    "version": 3
   },
   "file_extension": ".py",
   "mimetype": "text/x-python",
   "name": "python",
   "nbconvert_exporter": "python",
   "pygments_lexer": "ipython3",
   "version": "3.9.9"
  }
 },
 "nbformat": 4,
 "nbformat_minor": 5
}
