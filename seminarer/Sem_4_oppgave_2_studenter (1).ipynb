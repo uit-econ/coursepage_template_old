{
 "cells": [
  {
   "cell_type": "markdown",
   "id": "74afa2e2-3d62-43d7-a5d4-0a9299b74939",
   "metadata": {},
   "source": [
    "# SOK-1006 Mikroøkonomi    \n",
    "## Seminar 4    \n",
    "### Oppgave 2\n"
   ]
  },
  {
   "cell_type": "markdown",
   "id": "dc4ddf4b-1503-4354-b171-0f892a084ccf",
   "metadata": {},
   "source": [
    "Først skal vi generere 100 observasjoner for arbeidskraft (N), kapital (K) og et tilfeldig element (Z) som kan påvirke produksjon (x)."
   ]
  },
  {
   "cell_type": "code",
   "execution_count": null,
   "id": "e123a827-a889-4b93-be70-0b937cdc3538",
   "metadata": {},
   "outputs": [],
   "source": [
    "from numpy import random as rd\n",
    "import numpy as np\n",
    "import statsmodels as sm\n",
    "import pandas as pd\n",
    "import statsmodels.formula.api as smf\n",
    "samp_size=100\n",
    "\n",
    "\n",
    "K_obs=np.exp(rd.normal(3,1,samp_size))\n",
    "\n",
    "\n",
    "df=pd.DataFrame({'N':np.exp(rd.normal(3,1,samp_size)), \n",
    "                 'K':np.exp(rd.normal(2,1,samp_size)), \n",
    "                 'Z':np.exp(rd.normal(0,1,samp_size))\n",
    "                })\n",
    "\n",
    "# Ta logaritmer av disse variablene\n",
    "\n",
    "df['lnN']=np.log(df['N'])\n",
    "df['lnK']=np.log(df['K'])\n",
    "df['lnZ']=np.log(df['Z'])\n",
    "\n",
    "# Nå skal vi bruke disse til å generere observasjoner for x\n",
    "# Vi antar Cobb-Douglas produktfunksjon, skrevet på logaritmisk form.\n",
    "\n",
    "df['lnx']=1.2*df['lnN']+1.1*df['lnK']+df['lnZ']\n",
    "\n",
    "# Legg merke til at vi har satt inn tall for elastisitetne (1.2 for arbeidskraft og 1.1 for kapital).\n",
    "# Nå har vi ett datasett, og vil estimere hvordan den avhengige variabelen (ln x) påvirkes av de\n",
    "# eksogene variablene (lnN, lnK, lnZ).\n",
    "# Bruke ordinary least squares (ols).\n",
    "\n",
    "mod = smf.ols(formula='lnx ~ lnN + lnK', data=df)\n",
    "res = mod.fit()\n",
    "print(res.summary())"
   ]
  },
  {
   "cell_type": "markdown",
   "id": "4c4ca99d-365e-49ec-8a55-823163b720a7",
   "metadata": {},
   "source": [
    "Er dine estimatene på elastisitetene i nærheten av de faktisk tallene? Prøv å endre på elastisitetene."
   ]
  },
  {
   "cell_type": "markdown",
   "id": "79e226e7-ebc2-4889-93db-b9a7af1e35d0",
   "metadata": {},
   "source": [
    "La oss nå anta at vi ikke vet hvordan de faktiske elastisitetene ser ut. Da kan vi sette inn tilfeldige positive tall, og bruke OLS til å estimere disse."
   ]
  },
  {
   "cell_type": "code",
   "execution_count": null,
   "id": "a8594966-cc4a-4eac-aab0-06b51e45ea41",
   "metadata": {},
   "outputs": [],
   "source": [
    "rng = np.random.default_rng(12345)\n",
    "eln = rng.random()\n",
    "elk = rng.random()\n",
    "\n",
    "df['lnx']=eln*df['lnN']+elk*df['lnK']+df['lnZ']\n",
    "\n",
    "mod = smf.ols(formula='lnx ~ lnN + lnK', data=df)\n",
    "res = mod.fit()\n",
    "print(res.summary())"
   ]
  },
  {
   "cell_type": "markdown",
   "id": "59ccc50b-916a-43d7-8d8f-2505a0f94924",
   "metadata": {},
   "source": [
    "Hvilken type skalautbytte viser denne produktfunksjon?"
   ]
  },
  {
   "cell_type": "code",
   "execution_count": null,
   "id": "9c863bc8-c0f9-4b7b-8443-984e9b71d5d7",
   "metadata": {},
   "outputs": [],
   "source": []
  }
 ],
 "metadata": {
  "kernelspec": {
   "display_name": "Python 3 (ipykernel)",
   "language": "python",
   "name": "python3"
  },
  "language_info": {
   "codemirror_mode": {
    "name": "ipython",
    "version": 3
   },
   "file_extension": ".py",
   "mimetype": "text/x-python",
   "name": "python",
   "nbconvert_exporter": "python",
   "pygments_lexer": "ipython3",
   "version": "3.9.9"
  }
 },
 "nbformat": 4,
 "nbformat_minor": 5
}
