{
 "cells": [
  {
   "cell_type": "markdown",
   "id": "c5054e85-cebd-42d9-abe4-4b45e30fbf0a",
   "metadata": {},
   "source": [
    "# SOK-1006 Mikro"
   ]
  },
  {
   "cell_type": "markdown",
   "id": "0b0517ce-84bd-4a8e-adfd-101ac7409e98",
   "metadata": {},
   "source": [
    "## Seminar 1"
   ]
  },
  {
   "cell_type": "markdown",
   "id": "263d12f7-3f20-4943-b8ab-f5b3568008b0",
   "metadata": {},
   "source": [
    "### Oppgave 2"
   ]
  },
  {
   "cell_type": "code",
   "execution_count": 82,
   "id": "c42634f3-5f83-490e-8065-83c0ca325668",
   "metadata": {},
   "outputs": [],
   "source": [
    "# import pakkene som vi trenger\n",
    "import numpy as np\n",
    "from matplotlib import pyplot as plt\n",
    "import sympy as sp\n",
    "sp.init_printing()"
   ]
  },
  {
   "cell_type": "code",
   "execution_count": 83,
   "id": "10e4cb80-5139-40c0-9ad2-0191b046238c",
   "metadata": {},
   "outputs": [],
   "source": [
    "# definer symbolene som vi kommer til å bruke\n",
    "x,p,k,r,m,s=sp.symbols('x p k r m s', positive=True)\n",
    "# her har vi spesifisert at alle parametre er positive\n",
    "# ofte lurt når man deler på en parameter slik at Python ikke prøver å dele på 0."
   ]
  },
  {
   "cell_type": "code",
   "execution_count": 84,
   "id": "71da3fdd-45fc-4690-8466-980a70e588c1",
   "metadata": {},
   "outputs": [
    {
     "data": {
      "image/png": "[encoded data removed]",
      "text/latex": [
       "$\\displaystyle x = k p^{- r}$"
      ],
      "text/plain": [
       "       -r\n",
       "x = k⋅p  "
      ]
     },
     "execution_count": 84,
     "metadata": {},
     "output_type": "execute_result"
    }
   ],
   "source": [
    "# definer etterspørselslikning\n",
    "ettersp=sp.Eq(x,k*p**(-r))\n",
    "ettersp"
   ]
  },
  {
   "cell_type": "code",
   "execution_count": 85,
   "id": "57771a7d-8a66-4b9d-b9d3-4e0250bf9f4f",
   "metadata": {},
   "outputs": [
    {
     "data": {
      "image/png": "[encoded data removed]",
      "text/latex": [
       "$\\displaystyle \\left(\\frac{k}{x}\\right)^{\\frac{1}{r}}$"
      ],
      "text/plain": [
       "    ___\n",
       "   ╱ k \n",
       "r ╱  ─ \n",
       "╲╱   x "
      ]
     },
     "execution_count": 85,
     "metadata": {},
     "output_type": "execute_result"
    }
   ],
   "source": [
    "# la oss løse slik at vi kan skrive invers etterspørsel p=......\n",
    "pris_d=sp.solve(ettersp,p)[0]\n",
    "pris_d"
   ]
  },
  {
   "cell_type": "code",
   "execution_count": 86,
   "id": "9cdfc812-ff64-4926-b0cd-bdbe72a6c7b6",
   "metadata": {},
   "outputs": [],
   "source": [
    "# Invers etterspørsel med pris p og kvantum x\n",
    "# p=(k/x)**(1/r)\n",
    "\n",
    "def demand(x, k, r):\n",
    "    return (k/x)**(1/r)"
   ]
  },
  {
   "cell_type": "code",
   "execution_count": 87,
   "id": "4ed083be-a782-4c9a-9d26-31ec1e6642d4",
   "metadata": {},
   "outputs": [
    {
     "data": {
      "image/png": "[encoded data removed]",
      "text/latex": [
       "$\\displaystyle x = m p^{s}$"
      ],
      "text/plain": [
       "       s\n",
       "x = m⋅p "
      ]
     },
     "execution_count": 87,
     "metadata": {},
     "output_type": "execute_result"
    }
   ],
   "source": [
    "# Vi gjøre det samme for tilbud\n",
    "tilbud=sp.Eq(x,m*p**s)\n",
    "tilbud"
   ]
  },
  {
   "cell_type": "code",
   "execution_count": 88,
   "id": "a01008e2-c38c-448a-9e96-3966c69a3582",
   "metadata": {
    "tags": []
   },
   "outputs": [
    {
     "data": {
      "image/png": "[encoded data removed]",
      "text/latex": [
       "$\\displaystyle \\left(\\frac{x}{m}\\right)^{\\frac{1}{s}}$"
      ],
      "text/plain": [
       "    ___\n",
       "   ╱ x \n",
       "s ╱  ─ \n",
       "╲╱   m "
      ]
     },
     "execution_count": 88,
     "metadata": {},
     "output_type": "execute_result"
    }
   ],
   "source": [
    "pris_s=sp.solve(tilbud,p)[0]\n",
    "pris_s"
   ]
  },
  {
   "cell_type": "code",
   "execution_count": 89,
   "id": "659a3b53-67a0-4157-834e-89b06e9758a9",
   "metadata": {},
   "outputs": [],
   "source": [
    "# Invers tilbud med pris p og kvantum x\n",
    "# p=(x/m)**(1/s)\n",
    "\n",
    "def supply(x, m, s):\n",
    "    return (x/m)**(1/s)"
   ]
  },
  {
   "cell_type": "markdown",
   "id": "345f6bd9-1297-4c4f-b61c-d34898fdde85",
   "metadata": {},
   "source": [
    "Tegn figuren med de oppgitte verdiene: k=1, r=0.5, m=1, s=0.5."
   ]
  },
  {
   "cell_type": "code",
   "execution_count": 90,
   "id": "44bb3578-073b-4e9b-9a5d-04d514202238",
   "metadata": {},
   "outputs": [
    {
     "data": {
      "image/png": "[encoded data removed]",
      "text/latex": [
       "$\\displaystyle \\left( 0.0, \\  2.0\\right)$"
      ],
      "text/plain": [
       "(0.0, 2.0)"
      ]
     },
     "execution_count": 90,
     "metadata": {},
     "output_type": "execute_result"
    },
    {
     "data": {
      "image/png": "[encoded data removed]",
      "text/plain": [
       "<Figure size 432x288 with 1 Axes>"
      ]
     },
     "metadata": {
      "needs_background": "light"
     },
     "output_type": "display_data"
    }
   ],
   "source": [
    "# tegn 100 punkter 0.1-5\n",
    "x = np.linspace(0.1,5,100)\n",
    "\n",
    "\n",
    "# tegn tilbud\n",
    "plt.plot(x,supply(x,1,0.5),label='Tilbud')\n",
    "\n",
    "# og etterspørsel\n",
    "plt.plot(x,demand(x,1,0.5),label='Etterspørsel')\n",
    "\n",
    "#legend:\n",
    "plt.legend(loc='upper right')\n",
    "\n",
    "#axis lables\n",
    "plt.ylabel('Pris')\n",
    "plt.xlabel('Enheter')\n",
    "\n",
    "plt.title('Markedskrysset i utgangspunktet')\n",
    "\n",
    "# tilpass aksene\n",
    "plt.xlim((0,2))\n",
    "plt.ylim((0,2))"
   ]
  },
  {
   "cell_type": "markdown",
   "id": "c021d707-029c-4c98-8ce9-36d5f54263ad",
   "metadata": {},
   "source": [
    "Løs likevekten for de oppgitte tallene først."
   ]
  },
  {
   "cell_type": "code",
   "execution_count": 93,
   "id": "4c72777e-cb94-4451-94de-f931f59a5a86",
   "metadata": {},
   "outputs": [
    {
     "data": {
      "image/png": "[encoded data removed]",
      "text/latex": [
       "$\\displaystyle x^{-2.0} = x^{2.0}$"
      ],
      "text/plain": [
       " -2.0    2.0\n",
       "x     = x   "
      ]
     },
     "execution_count": 93,
     "metadata": {},
     "output_type": "execute_result"
    }
   ],
   "source": [
    "x,p,k,r,m,s=sp.symbols('x p k r m s', positive=True)\n",
    "eq_cond=sp.Eq(demand(x,1,0.5),supply(x,1,0.5))\n",
    "eq_cond"
   ]
  },
  {
   "cell_type": "code",
   "execution_count": null,
   "id": "b794cb7c-5b7b-40c7-b1ff-f25c4fb5ee5f",
   "metadata": {
    "tags": []
   },
   "outputs": [],
   "source": []
  },
  {
   "cell_type": "code",
   "execution_count": 94,
   "id": "62029a7e-d6be-4754-a22c-786121914c80",
   "metadata": {},
   "outputs": [
    {
     "name": "stdout",
     "output_type": "stream",
     "text": [
      "\n",
      "Likevektspris er 1.00000000000000\n",
      "Likevektskvantum er 1.00000000000000\n",
      "\n"
     ]
    }
   ],
   "source": [
    "# likevektskvantum\n",
    "x_eq=sp.solve(eq_cond,x)[0]\n",
    "x_eq\n",
    "# likevektspris\n",
    "p_eq=demand(x_eq,1,0.5)\n",
    "print(f\"\"\"\n",
    "Likevektspris er {sp.simplify (p_eq)}\n",
    "Likevektskvantum er {x_eq}\n",
    "\"\"\")"
   ]
  },
  {
   "cell_type": "markdown",
   "id": "c7d747d7-c81a-4fee-98d4-3113a13c147d",
   "metadata": {},
   "source": [
    "Generelt tilfelle:"
   ]
  },
  {
   "cell_type": "code",
   "execution_count": 108,
   "id": "0483270e-ded1-4b8b-9ac9-98c9fb2322e0",
   "metadata": {},
   "outputs": [
    {
     "data": {
      "image/png": "[encoded data removed]",
      "text/latex": [
       "$\\displaystyle k^{\\frac{s}{r + s}} m^{\\frac{r}{r + s}}$"
      ],
      "text/plain": [
       "   s      r  \n",
       " ─────  ─────\n",
       " r + s  r + s\n",
       "k     ⋅m     "
      ]
     },
     "execution_count": 108,
     "metadata": {},
     "output_type": "execute_result"
    }
   ],
   "source": [
    "eq_cond_gen=sp.Eq(demand(x,k,r),supply(x,m,s))\n",
    "eq_cond_gen\n",
    "# likevektskvantum\n",
    "x_eq_gen=sp.solve(eq_cond_gen,x)[0]\n",
    "sp.simplify(x_eq_gen)\n"
   ]
  },
  {
   "cell_type": "code",
   "execution_count": 106,
   "id": "ab0616d5-b619-41e2-a9f1-bc959149b0cb",
   "metadata": {},
   "outputs": [
    {
     "data": {
      "image/png": "[encoded data removed]",
      "text/latex": [
       "$\\displaystyle k^{\\frac{1}{r}} \\left(k^{- s} m^{- r}\\right)^{\\frac{1}{r \\left(r + s\\right)}}$"
      ],
      "text/plain": [
       "                   1    \n",
       "               ─────────\n",
       "               r⋅(r + s)\n",
       "r ___ ⎛ -s  -r⎞         \n",
       "╲╱ k ⋅⎝k  ⋅m  ⎠         "
      ]
     },
     "execution_count": 106,
     "metadata": {},
     "output_type": "execute_result"
    }
   ],
   "source": [
    "# likevektspris\n",
    "p_eq_gen=demand(x_eq_gen,k,r)\n",
    "sp.simplify(p_eq_gen)\n"
   ]
  },
  {
   "cell_type": "markdown",
   "id": "aadb8fd3-9102-4059-b798-347795cdac25",
   "metadata": {},
   "source": [
    "Hvordan endres likevekten med parameterendringer?"
   ]
  },
  {
   "cell_type": "code",
   "execution_count": 113,
   "id": "a0ac8ade-791f-454a-bf7f-3eb094a7270a",
   "metadata": {},
   "outputs": [
    {
     "data": {
      "image/png": "[encoded data removed]",
      "text/latex": [
       "$\\displaystyle \\left( 0.0, \\  5.0\\right)$"
      ],
      "text/plain": [
       "(0.0, 5.0)"
      ]
     },
     "execution_count": 113,
     "metadata": {},
     "output_type": "execute_result"
    },
    {
     "data": {
      "image/png": "[encoded data removed]",
      "text/plain": [
       "<Figure size 432x288 with 1 Axes>"
      ]
     },
     "metadata": {
      "needs_background": "light"
     },
     "output_type": "display_data"
    }
   ],
   "source": [
    "# tegn de opprinnelige funksjoner i sort\n",
    "# endre én parameter om gangen\n",
    "# øk k til k=2 (rødt)\n",
    "# øk r til 0.75 (green)\n",
    "\n",
    "# tegn 100 punkter 0.1-5\n",
    "x = np.linspace(0.1,5,100)\n",
    "\n",
    "\n",
    "# tegn opprinnelig tilbud og etterspørsel\n",
    "plt.plot(x,supply(x,1,0.5),color='black',linestyle='dashed',label='Tilbud')\n",
    "plt.plot(x,demand(x,1,0.5),color='black',label='Etterspørsel')\n",
    "\n",
    "# og ny etterspørsel\n",
    "plt.plot(x,demand(x,2,0.5),color='red',label='Etterspørsel (k=2)')\n",
    "plt.plot(x,demand(x,1,0.75),color='green',label='Etterspørsel (r=0.75)')\n",
    "\n",
    "#legend:\n",
    "plt.legend(loc='upper right')\n",
    "\n",
    "#axis lables\n",
    "plt.ylabel('Pris')\n",
    "plt.xlabel('Enheter')\n",
    "\n",
    "plt.title('Markedskrysset med ny etterspørsel')\n",
    "\n",
    "# tilpass aksene\n",
    "plt.xlim((0,5))\n",
    "plt.ylim((0,5))"
   ]
  },
  {
   "cell_type": "markdown",
   "id": "854fe59d-7277-491a-bff1-fa81f1529537",
   "metadata": {},
   "source": [
    "Pris og kvantum økes når k økes i dette eksempelet.   \n",
    "Når r endres er likevektsverdiene det samme!    \n",
    "Men dette er pga at k=m=1 (1 opphøyd til en potens er alltid 1).    \n",
    "La oss vise hva som skjer når (k=2, r=.5) endres til (k=2, r=.75)."
   ]
  },
  {
   "cell_type": "code",
   "execution_count": null,
   "id": "0b6c20fe-086a-4033-9d72-487da9128dbc",
   "metadata": {},
   "outputs": [],
   "source": [
    "x = np.linspace(0.1,5,100)\n",
    "\n",
    "\n",
    "# tegn tilbud og etterspørsel k=2, r=.5\n",
    "plt.plot(x,supply(x,1,0.5),color='black',linestyle='dashed',label='Tilbud')\n",
    "plt.plot(x,demand(x,2,0.5),color='black',label='Etterspørsel (r=.5)')\n",
    "\n",
    "# og ny etterspørsel k=2, r=0.75 (rødt)\n",
    "plt.plot(x,demand(x,2,0.75),color='red',label='Etterspørsel (r=.75)')\n",
    "\n",
    "\n",
    "#legend:\n",
    "plt.legend(loc='upper right')\n",
    "\n",
    "#axis lables\n",
    "plt.ylabel('Pris')\n",
    "plt.xlabel('Enheter')\n",
    "\n",
    "plt.title('Markedskrysset (k=2,r=.5) og (k=2,r=.75)')\n",
    "\n",
    "# tilpass aksene\n",
    "plt.xlim((0,5))\n",
    "plt.ylim((0,5))"
   ]
  },
  {
   "cell_type": "markdown",
   "id": "3ed1e621-aa4b-4a70-b66e-f9a695e1291f",
   "metadata": {},
   "source": [
    "Kvantum og pris faller når r øker i dette eksempelet!   \n"
   ]
  },
  {
   "cell_type": "markdown",
   "id": "96723e57-e8f7-4e7f-b826-646141644f64",
   "metadata": {},
   "source": [
    "La oss gjøre det samme med tilbud, og sammenlikne (m=2,s=.5) med (m=2.5,s=.5) og (m=2,s=.75)"
   ]
  },
  {
   "cell_type": "code",
   "execution_count": null,
   "id": "2f1cc441-61f5-45e5-8f05-74f1a8945948",
   "metadata": {},
   "outputs": [],
   "source": [
    "x = np.linspace(0.1,5,100)\n",
    "\n",
    "\n",
    "# tegn tilbud og etterspørsel k=1, r=.5, m=2, s=.5\n",
    "plt.plot(x,supply(x,2,0.5),color='black',linestyle='dashed',label='Tilbud (m=2,s=.5)')\n",
    "plt.plot(x,demand(x,1,0.5),color='black',label='Etterspørsel')\n",
    "\n",
    "# og nytt tilbud m=2.5, s=0.5 (rødt)\n",
    "plt.plot(x,supply(x,2.5,0.5),color='red',label='Tilbud (m=2.5,s=.5)')\n",
    "\n",
    "# og nytt tilbud m=2, s=0.75 (grønn)\n",
    "plt.plot(x,supply(x,3,0.5),color='green',label='Tilbud (m=2,s=.75)')\n",
    "\n",
    "\n",
    "#legend:\n",
    "plt.legend(loc='upper right')\n",
    "\n",
    "#axis lables\n",
    "plt.ylabel('Pris')\n",
    "plt.xlabel('Enheter')\n",
    "\n",
    "plt.title('Markedskrysset (m=2,s=.5), (m=2.5,s=.5) og (m=2,s=.75)')\n",
    "\n",
    "# tilpass aksene\n",
    "plt.xlim((0,3))\n",
    "plt.ylim((0,1))"
   ]
  },
  {
   "cell_type": "markdown",
   "id": "f130a23a-51cf-48f7-b747-c8bd16571958",
   "metadata": {},
   "source": [
    "For disse eksemplene kan vi konkludere med at likevektskvantum øker og -pris faller når m og/eller s øker."
   ]
  },
  {
   "cell_type": "markdown",
   "id": "da6a7ae6-c71d-4ea2-a78f-e2c834b72643",
   "metadata": {},
   "source": [
    "La oss undersøke dette analytisk:"
   ]
  },
  {
   "cell_type": "code",
   "execution_count": 109,
   "id": "4ca7a56c-7076-4c00-a252-7320a4bbf8d3",
   "metadata": {},
   "outputs": [
    {
     "data": {
      "image/png": "[encoded data removed]",
      "text/latex": [
       "$\\displaystyle \\frac{k^{-1 - \\frac{s}{r \\left(r + s\\right)} + \\frac{1}{r}} m^{- \\frac{1}{r + s}}}{r + s}$"
      ],
      "text/plain": [
       "          s       1   -1  \n",
       " -1 - ───────── + ─  ─────\n",
       "      r⋅(r + s)   r  r + s\n",
       "k                  ⋅m     \n",
       "──────────────────────────\n",
       "          r + s           "
      ]
     },
     "execution_count": 109,
     "metadata": {},
     "output_type": "execute_result"
    }
   ],
   "source": [
    "# Effekten av en økning i k på likevektspris\n",
    "p_eq_simp=sp.simplify(p_eq_gen)\n",
    "diff_p_k=sp.diff(p_eq_simp,k)\n",
    "\n",
    "sp.simplify(diff_p_k)\n"
   ]
  },
  {
   "cell_type": "markdown",
   "id": "2cd9eca2-0ead-47bc-b9fa-27bff152b4c7",
   "metadata": {},
   "source": [
    "Det er mulig å forenkle dette noe (k^(1-r-s)/m(r+s))^1/(r+s). Ettersom alle parametre er positive, kan vi konkludere med at dette uttrykket er positivt. En økning i k fører alltid til en økning i likevektsprisen."
   ]
  },
  {
   "cell_type": "code",
   "execution_count": 110,
   "id": "d60f4436-3a5f-48e3-a427-ea3400ce1d89",
   "metadata": {},
   "outputs": [
    {
     "data": {
      "image/png": "[encoded data removed]",
      "text/latex": [
       "$\\displaystyle \\log{\\left(\\left(\\frac{m}{k}\\right)^{\\frac{k^{\\frac{- \\frac{s}{r + s} + 1}{r}} m^{- \\frac{1}{r + s}}}{r^{2} + 2 r s + s^{2}}} \\right)}$"
      ],
      "text/plain": [
       "   ⎛        s             ⎞\n",
       "   ⎜    - ───── + 1       ⎟\n",
       "   ⎜      r + s       -1  ⎟\n",
       "   ⎜    ───────────  ─────⎟\n",
       "   ⎜         r       r + s⎟\n",
       "   ⎜   k           ⋅m     ⎟\n",
       "   ⎜   ───────────────────⎟\n",
       "   ⎜      2            2  ⎟\n",
       "   ⎜     r  + 2⋅r⋅s + s   ⎟\n",
       "   ⎜⎛m⎞                   ⎟\n",
       "log⎜⎜─⎟                   ⎟\n",
       "   ⎝⎝k⎠                   ⎠"
      ]
     },
     "execution_count": 110,
     "metadata": {},
     "output_type": "execute_result"
    }
   ],
   "source": [
    "# Effekten av en økning i r på likevektspris\n",
    "diff_p_r=sp.diff(p_eq_simp,r)\n",
    "\n",
    "sp.simplify(diff_p_r)"
   ]
  },
  {
   "cell_type": "markdown",
   "id": "ed485555-a77e-4bc8-9b40-d62cb4db5795",
   "metadata": {},
   "source": [
    "Dette er et log uttrykk som er positivt dersom tallet i parentes er større enn 1. Man kan vise at potensen her er et positivt tall. Kall den z, slik at vi spør om (m/k)^z > 1, dvs m/k>1^(1/z)=1, som er det samme som å spørre om  m>k. Konklusjon: dersom m>(<)k vil en økning i r gi en økning (reduksjon) i likevektspris. Når k=m vil en endring i r ikke påvirke likevektsprisen (log(1)=0)."
   ]
  },
  {
   "cell_type": "markdown",
   "id": "00c3b91c-efde-43f8-a7ec-7b75ceb1245e",
   "metadata": {},
   "source": [
    "La oss undersøke dette ved å sette m=2, k=1, s=0.5 og r=0.5 og r=0.75. Vår prediskjon er at denne økningen i r vil føre til en økning i pris."
   ]
  },
  {
   "cell_type": "code",
   "execution_count": 117,
   "id": "a5360b4f-54a7-4ff2-8a40-d2d701599696",
   "metadata": {},
   "outputs": [
    {
     "data": {
      "image/png": "[encoded data removed]",
      "text/latex": [
       "$\\displaystyle \\left( 0.0, \\  1.0\\right)$"
      ],
      "text/plain": [
       "(0.0, 1.0)"
      ]
     },
     "execution_count": 117,
     "metadata": {},
     "output_type": "execute_result"
    },
    {
     "data": {
      "image/png": "[encoded data removed]",
      "text/plain": [
       "<Figure size 432x288 with 1 Axes>"
      ]
     },
     "metadata": {
      "needs_background": "light"
     },
     "output_type": "display_data"
    }
   ],
   "source": [
    "# tegn 100 punkter 0.1-5\n",
    "x = np.linspace(0.1,5,100)\n",
    "\n",
    "\n",
    "# tegn tilbud (sort) og etterspørsel (rødt for r=0.5, grønn for r=0.75)\n",
    "plt.plot(x,supply(x,2,0.5),color='red',label='Tilbud (r=.5)')\n",
    "plt.plot(x,supply(x,2,0.75),color='green',label='Tilbud (r=.75)')\n",
    "plt.plot(x,demand(x,1,0.5),color='black',label='Etterspørsel')\n",
    "\n",
    "\n",
    "#legend:\n",
    "plt.legend(loc='upper right')\n",
    "\n",
    "#axis lables\n",
    "plt.ylabel('Pris')\n",
    "plt.xlabel('Enheter')\n",
    "\n",
    "plt.title('Økning i r for m>k')\n",
    "\n",
    "# tilpass aksene\n",
    "plt.xlim((0,3))\n",
    "plt.ylim((0,1))"
   ]
  },
  {
   "cell_type": "markdown",
   "id": "62b4b735-0a4b-4f5c-9d1d-f361253e5967",
   "metadata": {},
   "source": [
    "Som forventet.\n",
    "La oss undersøke ved å sette m=1, k=2, s=0.5 og r=0.5 og r=0.75. Vår prediskjon er at denne økningen i r vil føre til en reduksjon i pris."
   ]
  },
  {
   "cell_type": "code",
   "execution_count": 120,
   "id": "726ec3a9-1239-45d5-8697-edcf77e720fc",
   "metadata": {},
   "outputs": [
    {
     "data": {
      "image/png": "[encoded data removed]",
      "text/latex": [
       "$\\displaystyle \\left( 0.0, \\  3.0\\right)$"
      ],
      "text/plain": [
       "(0.0, 3.0)"
      ]
     },
     "execution_count": 120,
     "metadata": {},
     "output_type": "execute_result"
    },
    {
     "data": {
      "image/png": "[encoded data removed]",
      "text/plain": [
       "<Figure size 432x288 with 1 Axes>"
      ]
     },
     "metadata": {
      "needs_background": "light"
     },
     "output_type": "display_data"
    }
   ],
   "source": [
    "# tegn 100 punkter 0.1-5\n",
    "x = np.linspace(0.1,5,100)\n",
    "\n",
    "#m=1,k=2\n",
    "\n",
    "# tegn tilbud (sort) og etterspørsel (rødt for r=0.5, grønn for r=0.75)\n",
    "plt.plot(x,supply(x,1,0.5),color='red',label='Tilbud (r=.5)')\n",
    "plt.plot(x,supply(x,1,0.75),color='green',label='Tilbud (r=.75)')\n",
    "plt.plot(x,demand(x,2,0.5),color='black',label='Etterspørsel')\n",
    "\n",
    "\n",
    "#legend:\n",
    "plt.legend(loc='upper right')\n",
    "\n",
    "#axis lables\n",
    "plt.ylabel('Pris')\n",
    "plt.xlabel('Enheter')\n",
    "\n",
    "plt.title('Økning i r for k>m')\n",
    "\n",
    "# tilpass aksene\n",
    "plt.xlim((0,3))\n",
    "plt.ylim((0,3))"
   ]
  },
  {
   "cell_type": "markdown",
   "id": "2ac916e7-9c8a-46e0-abd0-15ac13452dd7",
   "metadata": {},
   "source": [
    "Som sammenfaller med vår prediksjon!"
   ]
  },
  {
   "cell_type": "code",
   "execution_count": 111,
   "id": "1bd0de84-573e-4c8a-8e39-d0dfcd0096c3",
   "metadata": {},
   "outputs": [
    {
     "data": {
      "image/png": "[encoded data removed]",
      "text/latex": [
       "$\\displaystyle - \\frac{k^{\\frac{1}{r}} \\left(k^{- s} m^{- r}\\right)^{\\frac{1}{r \\left(r + s\\right)}}}{m \\left(r + s\\right)}$"
      ],
      "text/plain": [
       "                    1     \n",
       "                ───────── \n",
       "                r⋅(r + s) \n",
       " r ___ ⎛ -s  -r⎞          \n",
       "-╲╱ k ⋅⎝k  ⋅m  ⎠          \n",
       "──────────────────────────\n",
       "        m⋅(r + s)         "
      ]
     },
     "execution_count": 111,
     "metadata": {},
     "output_type": "execute_result"
    }
   ],
   "source": [
    "# Effekten av en økning i m på likevektspris\n",
    "diff_p_m=sp.diff(p_eq_simp,m)\n",
    "\n",
    "sp.simplify(diff_p_m)"
   ]
  },
  {
   "cell_type": "markdown",
   "id": "9aeb277a-4c57-4a74-b71d-817813468286",
   "metadata": {},
   "source": [
    "En økning i m reduserer likevektsprisen."
   ]
  },
  {
   "cell_type": "code",
   "execution_count": 112,
   "id": "0f24df36-5264-402b-955f-201beb6b7a2a",
   "metadata": {},
   "outputs": [
    {
     "data": {
      "image/png": "[encoded data removed]",
      "text/latex": [
       "$\\displaystyle \\log{\\left(\\left(\\frac{m}{k}\\right)^{\\frac{k^{\\frac{- \\frac{s}{r + s} + 1}{r}} m^{- \\frac{1}{r + s}}}{r^{2} + 2 r s + s^{2}}} \\right)}$"
      ],
      "text/plain": [
       "   ⎛        s             ⎞\n",
       "   ⎜    - ───── + 1       ⎟\n",
       "   ⎜      r + s       -1  ⎟\n",
       "   ⎜    ───────────  ─────⎟\n",
       "   ⎜         r       r + s⎟\n",
       "   ⎜   k           ⋅m     ⎟\n",
       "   ⎜   ───────────────────⎟\n",
       "   ⎜      2            2  ⎟\n",
       "   ⎜     r  + 2⋅r⋅s + s   ⎟\n",
       "   ⎜⎛m⎞                   ⎟\n",
       "log⎜⎜─⎟                   ⎟\n",
       "   ⎝⎝k⎠                   ⎠"
      ]
     },
     "execution_count": 112,
     "metadata": {},
     "output_type": "execute_result"
    }
   ],
   "source": [
    "# Effekten av en økning i s på likevektspris\n",
    "diff_p_s=sp.diff(p_eq_simp,s)\n",
    "\n",
    "sp.simplify(diff_p_s)"
   ]
  },
  {
   "cell_type": "markdown",
   "id": "0eec3b87-5dab-4a22-93f5-ed3325ae5d5b",
   "metadata": {},
   "source": [
    "Samme uttrykk som for endringen i r!\n",
    "Konklusjon: dersom m>(<)k vil en økning i s gi en økning (reduksjon) i likevektspris. Når k=m vil en endring i s ikke påvirke likevektsprisen (log(1)=0)."
   ]
  },
  {
   "cell_type": "code",
   "execution_count": null,
   "id": "999e96f8-adfd-4de9-841b-deba064e97e1",
   "metadata": {},
   "outputs": [],
   "source": []
  }
 ],
 "metadata": {
  "kernelspec": {
   "display_name": "Python 3 (ipykernel)",
   "language": "python",
   "name": "python3"
  },
  "language_info": {
   "codemirror_mode": {
    "name": "ipython",
    "version": 3
   },
   "file_extension": ".py",
   "mimetype": "text/x-python",
   "name": "python",
   "nbconvert_exporter": "python",
   "pygments_lexer": "ipython3",
   "version": "3.9.9"
  }
 },
 "nbformat": 4,
 "nbformat_minor": 5
}
